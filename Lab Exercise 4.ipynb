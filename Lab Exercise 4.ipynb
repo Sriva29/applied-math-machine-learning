{
 "cells": [
  {
   "cell_type": "markdown",
   "metadata": {},
   "source": [
    "1. Calculate the bag of words (without TF-IDF, just word counts)\n",
    "matrix for the following 5 phrases.\n",
    "• college student\n",
    "• airport taxi driver\n",
    "• Toronto art museum\n",
    "• life art\n",
    "• machine learning studentHints: How many rows should be there? How many columns should be there?\n",
    "2. Calculate the IDF for the words “college” and “art”"
   ]
  },
  {
   "cell_type": "markdown",
   "metadata": {},
   "source": [
    "College Student\n",
    "Airport Taxi Driver\n",
    "Toronto Art Museum\n",
    "Life Art\n",
    "Machine Learning Student\n",
    "\n",
    "All the words in all phrases: (College Student Airport Taxi Driver Toronto Art Museum Life Machine Learning Student)\n",
    "\n",
    "College Student -> (1 1 0 0 0 0 0 0 0 0 0 0)\n",
    "Airport Taxi Driver -> (0 0 1 1 1 0 0 0 0 0 0 0)\n",
    "Toronto Art Museum -> (0 0 0 0 0 1 1 1 0 0 0 0)\n",
    "Life Art -> (0 0 0 0 0 0 1 0 1 0 0 0)\n",
    "Machine Learning Student -> ( 0 0 0 0 0 0 0 0 0 1 1 1)"
   ]
  },
  {
   "cell_type": "markdown",
   "metadata": {},
   "source": []
  }
 ],
 "metadata": {
  "kernelspec": {
   "display_name": "Python 3",
   "language": "python",
   "name": "python3"
  },
  "language_info": {
   "name": "python",
   "version": "3.12.0"
  }
 },
 "nbformat": 4,
 "nbformat_minor": 2
}
