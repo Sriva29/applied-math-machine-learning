{
  "cells": [
    {
      "cell_type": "markdown",
      "metadata": {
        "id": "view-in-github",
        "colab_type": "text"
      },
      "source": [
        "<a href=\"https://colab.research.google.com/github/Sriva29/applied-math-machine-learning/blob/main/Lab_Exercise_1.ipynb\" target=\"_parent\"><img src=\"https://colab.research.google.com/assets/colab-badge.svg\" alt=\"Open In Colab\"/></a>"
      ]
    },
    {
      "cell_type": "markdown",
      "metadata": {
        "id": "RLi9AuUGcNf0"
      },
      "source": [
        "<p style=\"font-family: Arial; font-size:3em;color:black;\"> Lab Exercise 1 </p>"
      ]
    },
    {
      "cell_type": "code",
      "execution_count": 3,
      "metadata": {
        "id": "yjy87kVWcNf4"
      },
      "outputs": [],
      "source": [
        "# importing numpy\n",
        "import numpy as np"
      ]
    },
    {
      "cell_type": "code",
      "execution_count": 8,
      "metadata": {
        "colab": {
          "base_uri": "https://localhost:8080/"
        },
        "id": "xTRMVyHAcNf6",
        "outputId": "dae51a1c-c323-4d44-dcda-403c417c09f5"
      },
      "outputs": [
        {
          "output_type": "stream",
          "name": "stdout",
          "text": [
            "[1 2 3 5 0]\n",
            "Are all elements in array a non-zero? False\n"
          ]
        }
      ],
      "source": [
        "# Create a numpy array with the elements \"1, 2, 3, 5, 0\", print the array and test if all of its elements are non-zero.\n",
        "a = np.array([1,2,3,5,0])\n",
        "print (a)\n",
        "print (\"Are all elements in array a non-zero?\", a.all())"
      ]
    },
    {
      "cell_type": "code",
      "execution_count": null,
      "metadata": {
        "id": "MF-5BztecNf7"
      },
      "outputs": [],
      "source": [
        "# Create a numpy array with the elements \"3, -1, 3, 7, 2\", print the array and test if any of its elements is non-zero."
      ]
    },
    {
      "cell_type": "code",
      "source": [
        "b = np.array([3, -1, 3, 7, 2])\n",
        "print(b)\n",
        "print(\"Are any of the arrays in array b non-zero?\", b.any())"
      ],
      "metadata": {
        "colab": {
          "base_uri": "https://localhost:8080/"
        },
        "id": "TyzR_SP_dfqJ",
        "outputId": "2bb64356-e415-483e-ba59-d13d251a1174"
      },
      "execution_count": 9,
      "outputs": [
        {
          "output_type": "stream",
          "name": "stdout",
          "text": [
            "[ 3 -1  3  7  2]\n",
            "Are any of the arrays in array b non-zero? True\n"
          ]
        }
      ]
    },
    {
      "cell_type": "code",
      "execution_count": null,
      "metadata": {
        "id": "l4YaZRelcNf7"
      },
      "outputs": [],
      "source": [
        "# Create a numpy array with the elements \"0, 0, 0, 0\", print the array and test if any of its elements is non-zero."
      ]
    },
    {
      "cell_type": "code",
      "source": [
        "c = np.array([0, 0, 0, 0])\n",
        "print(c)\n",
        "print(\"are any of the arrays of array c non-zero?\", c.any())"
      ],
      "metadata": {
        "colab": {
          "base_uri": "https://localhost:8080/"
        },
        "id": "XAIpGBfUd8wu",
        "outputId": "188c5fac-3ef8-4ee5-9fea-3580871c3e03"
      },
      "execution_count": 10,
      "outputs": [
        {
          "output_type": "stream",
          "name": "stdout",
          "text": [
            "[0 0 0 0]\n",
            "are any of the arrays of array c non-zero? False\n"
          ]
        }
      ]
    },
    {
      "cell_type": "code",
      "execution_count": null,
      "metadata": {
        "id": "N_d0ry0NcNf8"
      },
      "outputs": [],
      "source": [
        "# Create a numpy array with the elements \"56, -2, 7\", print the array and the amount of memory required to store it."
      ]
    },
    {
      "cell_type": "code",
      "source": [
        "d = np.array([56, -2, 7])\n",
        "print(d)\n",
        "print(\"The amount of memory required to store array d is: \", d.itemsize*d.size)"
      ],
      "metadata": {
        "colab": {
          "base_uri": "https://localhost:8080/"
        },
        "id": "fBz8XGFFeRlI",
        "outputId": "728a5153-544a-41fc-c07b-007f6439b3df"
      },
      "execution_count": 12,
      "outputs": [
        {
          "output_type": "stream",
          "name": "stdout",
          "text": [
            "[56 -2  7]\n",
            "The amount of memory required to store array d is:  24\n"
          ]
        }
      ]
    },
    {
      "cell_type": "code",
      "execution_count": null,
      "metadata": {
        "id": "BzeFTdcqcNf9"
      },
      "outputs": [],
      "source": [
        "# Create a numpy array with 10 zeros and print the array.\n",
        "\n",
        "# Create a numpy array with 6 ones and print the array.\n",
        "\n",
        "# Create a numpy array with 12 '3's and print the array. [3 3 3 3 3 3 3 3 3 3 3 3]\n"
      ]
    },
    {
      "cell_type": "code",
      "source": [
        "e = np.zeros(10)\n",
        "print(e)\n",
        "f = np.ones(6)\n",
        "print(f)\n",
        "g = np.ones(12)*3\n",
        "print(g)"
      ],
      "metadata": {
        "colab": {
          "base_uri": "https://localhost:8080/"
        },
        "id": "RuMYHEqlfXd5",
        "outputId": "670fde05-0780-4471-83f1-8592369dd90e"
      },
      "execution_count": 16,
      "outputs": [
        {
          "output_type": "stream",
          "name": "stdout",
          "text": [
            "[0. 0. 0. 0. 0. 0. 0. 0. 0. 0.]\n",
            "[1. 1. 1. 1. 1. 1.]\n",
            "[3. 3. 3. 3. 3. 3. 3. 3. 3. 3. 3. 3.]\n"
          ]
        }
      ]
    },
    {
      "cell_type": "code",
      "execution_count": null,
      "metadata": {
        "id": "2HN0Wzv8cNf-"
      },
      "outputs": [],
      "source": [
        "# Create a numpy array of the integers from 8 to 20 and print the array. (make sure 20 itself is included) hint:  use \"arange\" method\n",
        "\n",
        "# Create a numpy array of the even integers from 8 to 20 and print the array. (make sure 20 itself is included)   hint:  use \"arange\" method\n"
      ]
    },
    {
      "cell_type": "code",
      "source": [],
      "metadata": {
        "id": "fuIJ5jwwg-Qi"
      },
      "execution_count": null,
      "outputs": []
    },
    {
      "cell_type": "code",
      "execution_count": null,
      "metadata": {
        "id": "CxSjfRNacNf_"
      },
      "outputs": [],
      "source": [
        "# Create a numpy array consisting of 100 random elements from normal distribution with mean of 2 and std of 0.5. Print the mean, max, min and std of the array.\n",
        "\n",
        "# Create a numpy array consisting of 1000 random elements from normal distribution with mean of 2 and std of 0.5. Print the mean, max, min and std of the array.\n",
        "\n",
        "# Create a numpy array consisting of 1000000 random elements from normal distribution with mean of 2 and std of 0.5. Print the mean, max, min and std of the array.\n",
        "\n",
        "# (Bonus question) Looking at the three above examples with 1000, 5000, and 10000 random elements, do you have any observations about mean and std values?\n"
      ]
    }
  ],
  "metadata": {
    "kernelspec": {
      "display_name": "Python 3 (ipykernel)",
      "language": "python",
      "name": "python3"
    },
    "language_info": {
      "codemirror_mode": {
        "name": "ipython",
        "version": 3
      },
      "file_extension": ".py",
      "mimetype": "text/x-python",
      "name": "python",
      "nbconvert_exporter": "python",
      "pygments_lexer": "ipython3",
      "version": "3.12.0"
    },
    "colab": {
      "provenance": [],
      "include_colab_link": true
    }
  },
  "nbformat": 4,
  "nbformat_minor": 0
}